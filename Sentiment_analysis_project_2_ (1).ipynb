{
  "nbformat": 4,
  "nbformat_minor": 0,
  "metadata": {
    "colab": {
      "provenance": []
    },
    "kernelspec": {
      "name": "python3",
      "display_name": "Python 3"
    },
    "language_info": {
      "name": "python"
    }
  },
  "cells": [
    {
      "cell_type": "markdown",
      "source": [
        "# Objective:\n",
        "\n"
      ],
      "metadata": {
        "id": "I17DKjpNWUZq"
      }
    },
    {
      "cell_type": "markdown",
      "source": [
        "To Perform sentiment analysis on the tweets dataset to classify the sentiment of each tweet as positive, negative, or neutral."
      ],
      "metadata": {
        "id": "xtWu0c5VWX8G"
      }
    },
    {
      "cell_type": "markdown",
      "source": [
        "# Data Source:\n",
        "\n"
      ],
      "metadata": {
        "id": "SODHRq7oWZSr"
      }
    },
    {
      "cell_type": "markdown",
      "source": [
        "we can use various sources for sentiment analysis data:\n",
        "Public datasets: Kaggle offers datasets like movie reviews or Twitter sentiment labeled for sentiment. (e.g., https://www.kaggle.com/datasets/kazanova/sentiment140)\n",
        "Web scraping: Scrape reviews or social media posts from websites relevant to your domain (ensure ethical scraping practices).\n",
        "Manually labeled data: Create your own dataset by labeling text data with sentiment categories."
      ],
      "metadata": {
        "id": "qguNa-4WWw58"
      }
    },
    {
      "cell_type": "markdown",
      "source": [
        "# Import Libraries:"
      ],
      "metadata": {
        "id": "L76yjhsYW8Ep"
      }
    },
    {
      "cell_type": "code",
      "source": [
        "import pandas as pd\n",
        "from sklearn.model_selection import train_test_split\n",
        "from sklearn.feature_extraction.text import TfidfVectorizer\n",
        "from sklearn.linear_model import LogisticRegression\n",
        "from sklearn.metrics import accuracy_score, classification_report\n"
      ],
      "metadata": {
        "id": "9A6yizKUXCWp"
      },
      "execution_count": null,
      "outputs": []
    },
    {
      "cell_type": "markdown",
      "source": [
        "# Import Data:"
      ],
      "metadata": {
        "id": "AuviFlXrXNq0"
      }
    },
    {
      "cell_type": "code",
      "source": [
        "import pandas as pd\n",
        "data = pd.read_csv('sentiment_data.csv', encoding='latin-1')"
      ],
      "metadata": {
        "id": "JBJXN2B8P640"
      },
      "execution_count": null,
      "outputs": []
    },
    {
      "cell_type": "markdown",
      "source": [
        "# Describe Data:\n",
        "\n"
      ],
      "metadata": {
        "id": "HjAbYd4GXovr"
      }
    },
    {
      "cell_type": "markdown",
      "source": [
        "The dataset contains columns such as text, sentiment, time of tweet, age of user, country, population, land area, and density. The sentiment column categorizes tweets as positive, negative, or neutral."
      ],
      "metadata": {
        "id": "idsmPvnrXpFK"
      }
    },
    {
      "cell_type": "markdown",
      "source": [
        "# Data Visualization:"
      ],
      "metadata": {
        "id": "t9yZGmBKX2R-"
      }
    },
    {
      "cell_type": "code",
      "source": [
        "import pandas as pd\n",
        "import matplotlib.pyplot as plt\n",
        "import seaborn as sns\n",
        "sentiment_counts = data ['sentiment'].value_counts()\n",
        "plt.figure(figsize=(8, 6))\n",
        "sns.barplot(x=sentiment_counts.index, y=sentiment_counts.values, palette=\"viridis\")\n",
        "plt.title('Sentiment Distribution in the Dataset')\n",
        "plt.xlabel('Sentiment')\n",
        "plt.ylabel('Number of Tweets')\n",
        "plt.show()\n"
      ],
      "metadata": {
        "colab": {
          "base_uri": "https://localhost:8080/",
          "height": 671
        },
        "id": "RYhBa_vVYDmJ",
        "outputId": "430aa512-b1a0-45c1-902c-3b82b10e5a5f"
      },
      "execution_count": null,
      "outputs": [
        {
          "output_type": "stream",
          "name": "stderr",
          "text": [
            "<ipython-input-6-89c36685d235>:6: FutureWarning: \n",
            "\n",
            "Passing `palette` without assigning `hue` is deprecated and will be removed in v0.14.0. Assign the `x` variable to `hue` and set `legend=False` for the same effect.\n",
            "\n",
            "  sns.barplot(x=sentiment_counts.index, y=sentiment_counts.values, palette=\"viridis\")\n"
          ]
        },
        {
          "output_type": "display_data",
          "data": {
            "text/plain": [
              "<Figure size 800x600 with 1 Axes>"
            ],
            "image/png": "[encoded data removed]"
          },
          "metadata": {}
        }
      ]
    },
    {
      "cell_type": "markdown",
      "source": [
        "Data Preprocessing:"
      ],
      "metadata": {
        "id": "2Z2JbJivaSx5"
      }
    },
    {
      "cell_type": "code",
      "source": [
        "import pandas as pd\n",
        "import numpy as np\n",
        "import re\n",
        "from sklearn.feature_extraction.text import TfidfVectorizer\n",
        "def preprocess_text(text):\n",
        "    if isinstance(text, str):\n",
        "        text = text.lower()\n",
        "        text = re.sub(r'http\\S+', '', text)\n",
        "        text = re.sub(r'[^a-zA-Z\\s]', '', text)\n",
        "\n",
        "    return text\n",
        "\n",
        "# Handle missing values in the 'text' column\n",
        "data['text'] = data['text'].fillna('')  # Fill NaN values with an empty string\n",
        "\n",
        "# Apply data preprocessing to the 'text' column\n",
        "data['text'] = data['text'].apply(preprocess_text)\n",
        "\n",
        "# TF-IDF Vectorization\n",
        "tfidf = TfidfVectorizer()\n",
        "X = tfidf.fit_transform(data['text'])\n",
        "\n",
        "# Convert the TF-IDF matrix into a DataFrame (optional)\n",
        "X_df = pd.DataFrame(X.toarray(), columns=tfidf.get_feature_names_out())\n",
        "\n",
        "# Display the preprocessed text data and TF-IDF features\n",
        "print(\"Preprocessed Text Data:\")\n",
        "print(data['text'].head())\n",
        "\n",
        "print(\"\\nTF-IDF Features:\")\n",
        "print(X_df.head())"
      ],
      "metadata": {
        "colab": {
          "base_uri": "https://localhost:8080/"
        },
        "id": "xTdu3qwYa3BJ",
        "outputId": "1fca3a97-5d83-46d4-e8ba-27e63587ffad"
      },
      "execution_count": null,
      "outputs": [
        {
          "output_type": "stream",
          "name": "stdout",
          "text": [
            "Preprocessed Text Data:\n",
            "0                            last session of the day  \n",
            "1     shanghai is also really exciting precisely  s...\n",
            "2    recession hit veronique branquinho she has to ...\n",
            "3                                           happy bday\n",
            "4                                            i like it\n",
            "Name: text, dtype: object\n",
            "\n",
            "TF-IDF Features:\n",
            "   aaaaa  aaaaaaaa  aaaaahhhh  aaass  aaaww  aah  aarg  aaron  aasahan  \\\n",
            "0    0.0       0.0        0.0    0.0    0.0  0.0   0.0    0.0      0.0   \n",
            "1    0.0       0.0        0.0    0.0    0.0  0.0   0.0    0.0      0.0   \n",
            "2    0.0       0.0        0.0    0.0    0.0  0.0   0.0    0.0      0.0   \n",
            "3    0.0       0.0        0.0    0.0    0.0  0.0   0.0    0.0      0.0   \n",
            "4    0.0       0.0        0.0    0.0    0.0  0.0   0.0    0.0      0.0   \n",
            "\n",
            "   abandon  ...  zealand  zero   zi  zilch  zimbabwe  \\\n",
            "0      0.0  ...      0.0   0.0  0.0    0.0       0.0   \n",
            "1      0.0  ...      0.0   0.0  0.0    0.0       0.0   \n",
            "2      0.0  ...      0.0   0.0  0.0    0.0       0.0   \n",
            "3      0.0  ...      0.0   0.0  0.0    0.0       0.0   \n",
            "4      0.0  ...      0.0   0.0  0.0    0.0       0.0   \n",
            "\n",
            "   zimmermannillionaredhini  zirconcode  zombies  zoo  zsnagy  \n",
            "0                       0.0         0.0      0.0  0.0     0.0  \n",
            "1                       0.0         0.0      0.0  0.0     0.0  \n",
            "2                       0.0         0.0      0.0  0.0     0.0  \n",
            "3                       0.0         0.0      0.0  0.0     0.0  \n",
            "4                       0.0         0.0      0.0  0.0     0.0  \n",
            "\n",
            "[5 rows x 7120 columns]\n"
          ]
        }
      ]
    },
    {
      "cell_type": "markdown",
      "source": [
        "# Define Target Variable (y) and Feature Variables (X):"
      ],
      "metadata": {
        "id": "mOEIdLlegVzZ"
      }
    },
    {
      "cell_type": "code",
      "source": [
        "X = data ['text']\n",
        "y = data ['sentiment']"
      ],
      "metadata": {
        "id": "Xd0ZpwnCgWW4"
      },
      "execution_count": null,
      "outputs": []
    },
    {
      "cell_type": "markdown",
      "source": [
        "# Train Test Split:"
      ],
      "metadata": {
        "id": "h3GWdZnKhfhr"
      }
    },
    {
      "cell_type": "code",
      "source": [
        "from sklearn.model_selection import train_test_split\n",
        "X_train, X_test, y_train, y_test = train_test_split(X, y, test_size=0.2, random_state=42)\n"
      ],
      "metadata": {
        "id": "rLQ486pdhhU7"
      },
      "execution_count": null,
      "outputs": []
    },
    {
      "cell_type": "markdown",
      "source": [
        "# Modeling"
      ],
      "metadata": {
        "id": "CC0JE8BVh9Kr"
      }
    },
    {
      "cell_type": "code",
      "source": [
        "from sklearn.preprocessing import LabelEncoder\n",
        "from sklearn.model_selection import train_test_split\n",
        "from sklearn.linear_model import LogisticRegression\n",
        "from sklearn.metrics import accuracy_score\n",
        "\n",
        "\n",
        "le = LabelEncoder()\n",
        "\n",
        "data['sentiment_encoded'] = le.fit_transform(data['sentiment'])\n",
        "\n",
        "\n",
        "X_train, X_test, y_train, y_test = train_test_split(X_df, data['sentiment_encoded'], test_size=0.2, random_state=42)\n",
        "\n",
        "\n",
        "model = LogisticRegression()\n",
        "\n",
        "model.fit(X_train, y_train)\n",
        "\n",
        "\n",
        "y_pred = model.predict(X_test)\n",
        "\n",
        "\n",
        "y_pred_decoded = le.inverse_transform(y_pred)\n",
        "\n",
        "\n",
        "accuracy = accuracy_score(y_test, y_pred)\n",
        "print(\"Accuracy:\", accuracy)"
      ],
      "metadata": {
        "colab": {
          "base_uri": "https://localhost:8080/"
        },
        "id": "DVnOdJU2ifK6",
        "outputId": "7a7d502e-e5c4-4cc7-ab8d-0fec849ead43"
      },
      "execution_count": null,
      "outputs": [
        {
          "output_type": "stream",
          "name": "stdout",
          "text": [
            "Accuracy: 0.6708203530633438\n"
          ]
        }
      ]
    },
    {
      "cell_type": "markdown",
      "source": [
        "# Model Evaluation"
      ],
      "metadata": {
        "id": "47p9E6_Bjkan"
      }
    },
    {
      "cell_type": "code",
      "source": [
        "from sklearn.metrics import accuracy_score, precision_score, recall_score, f1_score, confusion_matrix\n",
        "accuracy = accuracy_score(y_test, y_pred)\n",
        "print(\"Accuracy:\", accuracy)\n",
        "\n",
        "precision = precision_score(y_test, y_pred, average='weighted')\n",
        "print(\"Precision:\", precision)\n",
        "\n",
        "\n",
        "recall = recall_score(y_test, y_pred, average='weighted')\n",
        "print(\"Recall:\", recall)\n",
        "\n",
        "\n",
        "f1 = f1_score(y_test, y_pred, average='weighted')\n",
        "print(\"F1 Score:\", f1)\n",
        "\n",
        "\n",
        "conf_matrix = confusion_matrix(y_test, y_pred)\n",
        "print(\"Confusion Matrix:\")\n",
        "print(conf_matrix)"
      ],
      "metadata": {
        "colab": {
          "base_uri": "https://localhost:8080/"
        },
        "id": "gRA4W09wktat",
        "outputId": "9b193fc3-ac9b-446d-9c66-2cab82ed2988"
      },
      "execution_count": null,
      "outputs": [
        {
          "output_type": "stream",
          "name": "stdout",
          "text": [
            "Accuracy: 0.6708203530633438\n",
            "Precision: 0.6906648776175723\n",
            "Recall: 0.6708203530633438\n",
            "F1 Score: 0.6582965995969893\n",
            "Confusion Matrix:\n",
            "[[ 88 113   7  18]\n",
            " [ 21 177  36  34]\n",
            " [  7  63 123  18]\n",
            " [  0   0   0 258]]\n"
          ]
        }
      ]
    },
    {
      "cell_type": "markdown",
      "source": [
        "# Prediction:"
      ],
      "metadata": {
        "id": "_b-yuzdRlLNG"
      }
    },
    {
      "cell_type": "markdown",
      "source": [
        "# Explanation:"
      ],
      "metadata": {
        "id": "6kudjrQslnvW"
      }
    },
    {
      "cell_type": "markdown",
      "source": [
        "Sentiment analysis aims to classify the sentiment of text data into predefined categories. In this case, we used a Logistic Regression model to predict whether a tweet expresses positive, negative, or neutral sentiment. By preprocessing the text data, converting it into numerical features, and training the model, we were able to make predictions on the sentiment of new tweets. The model's performance was evaluated using accuracy and a classification report to assess its effectiveness in sentiment classification."
      ],
      "metadata": {
        "id": "BPyE_3oXl12D"
      }
    }
  ]
}