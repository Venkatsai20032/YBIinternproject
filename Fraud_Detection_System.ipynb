{
  "nbformat": 4,
  "nbformat_minor": 0,
  "metadata": {
    "colab": {
      "provenance": []
    },
    "kernelspec": {
      "name": "python3",
      "display_name": "Python 3"
    },
    "language_info": {
      "name": "python"
    }
  },
  "cells": [
    {
      "cell_type": "markdown",
      "source": [
        "# Objective:"
      ],
      "metadata": {
        "id": "ioD-b8fDXwJM"
      }
    },
    {
      "cell_type": "markdown",
      "source": [
        "Develop a system to detect fraudulent transactions or activities in financial data, aiming to minimize financial losses and maintain trust in the system."
      ],
      "metadata": {
        "id": "v69VTiXjX06D"
      }
    },
    {
      "cell_type": "markdown",
      "source": [
        "# Data Source:\n"
      ],
      "metadata": {
        "id": "f2J-9tt-X6qd"
      }
    },
    {
      "cell_type": "markdown",
      "source": [
        "Financial transaction data can be obtained from banks, credit card companies, or financial institutions. For this example, let's assume we have a CSV file containing transaction data."
      ],
      "metadata": {
        "id": "_SiAZXu9X__4"
      }
    },
    {
      "cell_type": "markdown",
      "source": [
        "# Import Library:\n"
      ],
      "metadata": {
        "id": "g_0vyUq5YBDo"
      }
    },
    {
      "cell_type": "markdown",
      "source": [
        "Import necessary libraries such as Pandas, NumPy, Scikit-learn, Matplotlib, and Seaborn.\n"
      ],
      "metadata": {
        "id": "QkutKOk5YMe8"
      }
    },
    {
      "cell_type": "markdown",
      "source": [
        "# Import Data:"
      ],
      "metadata": {
        "id": "MP6j-5vLYPOA"
      }
    },
    {
      "cell_type": "code",
      "source": [
        "import pandas as pd\n",
        "transaction_data = pd.read_csv('transaction_data.csv')"
      ],
      "metadata": {
        "id": "AeY0vHcuYRNM"
      },
      "execution_count": 1,
      "outputs": []
    },
    {
      "cell_type": "markdown",
      "source": [
        "# Describe Data:"
      ],
      "metadata": {
        "id": "_HC1KZbiZavf"
      }
    },
    {
      "cell_type": "code",
      "source": [
        "print(transaction_data.info())\n",
        "print(transaction_data.describe())\n",
        "print(transaction_data.head())"
      ],
      "metadata": {
        "colab": {
          "base_uri": "https://localhost:8080/"
        },
        "id": "g_46WKvwZbZ9",
        "outputId": "98fb120e-f1f4-4063-ade5-8eb1807fe3af"
      },
      "execution_count": 2,
      "outputs": [
        {
          "output_type": "stream",
          "name": "stdout",
          "text": [
            "<class 'pandas.core.frame.DataFrame'>\n",
            "RangeIndex: 10 entries, 0 to 9\n",
            "Data columns (total 5 columns):\n",
            " #   Column          Non-Null Count  Dtype \n",
            "---  ------          --------------  ----- \n",
            " 0   Transaction_ID  10 non-null     int64 \n",
            " 1   Amount          10 non-null     int64 \n",
            " 2   Merchant        10 non-null     object\n",
            " 3   Card_Type       10 non-null     object\n",
            " 4   is_fraud        10 non-null     int64 \n",
            "dtypes: int64(3), object(2)\n",
            "memory usage: 528.0+ bytes\n",
            "None\n",
            "       Transaction_ID      Amount   is_fraud\n",
            "count        10.00000   10.000000  10.000000\n",
            "mean          5.50000  152.000000   0.200000\n",
            "std           3.02765   80.111034   0.421637\n",
            "min           1.00000   50.000000   0.000000\n",
            "25%           3.25000   92.500000   0.000000\n",
            "50%           5.50000  135.000000   0.000000\n",
            "75%           7.75000  195.000000   0.000000\n",
            "max          10.00000  300.000000   1.000000\n",
            "   Transaction_ID  Amount Merchant   Card_Type  is_fraud\n",
            "0               1     100   Amazon        Visa         0\n",
            "1               2      50    Apple  Mastercard         0\n",
            "2               3     200  Walmart        Visa         1\n",
            "3               4     300   Amazon        Visa         0\n",
            "4               5     150   Target  Mastercard         0\n"
          ]
        }
      ]
    },
    {
      "cell_type": "markdown",
      "source": [
        "# Data Visualization:"
      ],
      "metadata": {
        "id": "N4taQyqsZi8s"
      }
    },
    {
      "cell_type": "code",
      "source": [
        "import seaborn as sns\n",
        "import matplotlib.pyplot as plt\n",
        "sns.histplot(transaction_data['Amount'], bins=50, kde=True)\n",
        "plt.title('Transaction Amount Distribution')\n",
        "plt.xlabel('Amount')\n",
        "plt.ylabel('Frequency')\n",
        "plt.show()"
      ],
      "metadata": {
        "colab": {
          "base_uri": "https://localhost:8080/",
          "height": 472
        },
        "id": "qFTci9k_Zm7B",
        "outputId": "ed2a2a21-82f4-45b5-bdea-5c121d18c1a7"
      },
      "execution_count": 3,
      "outputs": [
        {
          "output_type": "display_data",
          "data": {
            "text/plain": [
              "<Figure size 640x480 with 1 Axes>"
            ],
            "image/png": "[encoded data removed]"
          },
          "metadata": {}
        }
      ]
    },
    {
      "cell_type": "markdown",
      "source": [
        "# Data Preprocessing:"
      ],
      "metadata": {
        "id": "An42NzibZsfX"
      }
    },
    {
      "cell_type": "code",
      "source": [
        "transaction_data.dropna(inplace=True)"
      ],
      "metadata": {
        "id": "c2LGoep7Zy02"
      },
      "execution_count": 4,
      "outputs": []
    },
    {
      "cell_type": "markdown",
      "source": [
        "# Define Target Variable (y) and Feature Variables (X):"
      ],
      "metadata": {
        "id": "LRazxNKHZ3-1"
      }
    },
    {
      "cell_type": "code",
      "source": [
        "X = transaction_data.drop('is_fraud', axis=1)\n",
        "y = transaction_data['is_fraud']"
      ],
      "metadata": {
        "id": "fdT-_XhpZ-z8"
      },
      "execution_count": 5,
      "outputs": []
    },
    {
      "cell_type": "markdown",
      "source": [
        "# Train Test Split:"
      ],
      "metadata": {
        "id": "57jBI4ETaDTh"
      }
    },
    {
      "cell_type": "code",
      "source": [
        "from sklearn.model_selection import train_test_split\n",
        "X_train, X_test, y_train, y_test = train_test_split(X, y, test_size=0.2, random_state=42)"
      ],
      "metadata": {
        "id": "gfgpLcoNaHMZ"
      },
      "execution_count": 6,
      "outputs": []
    },
    {
      "cell_type": "markdown",
      "source": [
        "# Modeling:"
      ],
      "metadata": {
        "id": "9PzoT_MyaOY5"
      }
    },
    {
      "cell_type": "code",
      "source": [
        "import pandas as pd\n",
        "transaction_data = pd.read_csv('transaction_data.csv')\n",
        "transaction_data = pd.get_dummies(transaction_data, columns=['Merchant', 'Card_Type'])\n",
        "X = transaction_data.drop('is_fraud', axis=1)\n",
        "y = transaction_data['is_fraud']\n",
        "print(transaction_data.head())\n"
      ],
      "metadata": {
        "colab": {
          "base_uri": "https://localhost:8080/"
        },
        "id": "YhPAmrU7aTQx",
        "outputId": "61b811dd-c13e-46d4-a460-1d0db192896f"
      },
      "execution_count": 8,
      "outputs": [
        {
          "output_type": "stream",
          "name": "stdout",
          "text": [
            "   Transaction_ID  Amount  is_fraud  Merchant_Amazon  Merchant_Apple  \\\n",
            "0               1     100         0             True           False   \n",
            "1               2      50         0            False            True   \n",
            "2               3     200         1            False           False   \n",
            "3               4     300         0             True           False   \n",
            "4               5     150         0            False           False   \n",
            "\n",
            "   Merchant_Target  Merchant_Walmart  Card_Type_Mastercard  Card_Type_Visa  \n",
            "0            False             False                 False            True  \n",
            "1            False             False                  True           False  \n",
            "2            False              True                 False            True  \n",
            "3            False             False                 False            True  \n",
            "4             True             False                  True           False  \n"
          ]
        }
      ]
    },
    {
      "cell_type": "markdown",
      "source": [
        "# Model Evaluation:"
      ],
      "metadata": {
        "id": "aXWBl_TGa7G-"
      }
    },
    {
      "cell_type": "code",
      "source": [
        "import pandas as pd\n",
        "from sklearn.model_selection import train_test_split\n",
        "from sklearn.linear_model import LogisticRegression\n",
        "from sklearn.metrics import classification_report, confusion_matrix\n",
        "from sklearn.preprocessing import OneHotEncoder\n",
        "transaction_data = pd.read_csv('transaction_data.csv')\n",
        "X = transaction_data.drop('is_fraud', axis=1)\n",
        "y = transaction_data['is_fraud']\n",
        "encoder = OneHotEncoder(drop='first', sparse=False)\n",
        "X_encoded = encoder.fit_transform(X[['Merchant', 'Card_Type']])\n",
        "X_encoded_df = pd.DataFrame(X_encoded, columns=encoder.get_feature_names_out(['Merchant', 'Card_Type']))\n",
        "X = pd.concat([X.drop(['Merchant', 'Card_Type'], axis=1), X_encoded_df], axis=1)\n",
        "X_train, X_test, y_train, y_test = train_test_split(X, y, test_size=0.2, random_state=42)\n",
        "model = LogisticRegression()\n",
        "model.fit(X_train, y_train)\n",
        "y_pred = model.predict(X_test)\n",
        "print(\"Classification Report:\")\n",
        "print(classification_report(y_test, y_pred))\n",
        "print(\"\\nConfusion Matrix:\")\n",
        "print(confusion_matrix(y_test, y_pred))"
      ],
      "metadata": {
        "colab": {
          "base_uri": "https://localhost:8080/"
        },
        "id": "FB4EjmbYbCF5",
        "outputId": "140a07fe-cf28-4083-c9e0-38ec2d423870"
      },
      "execution_count": 11,
      "outputs": [
        {
          "output_type": "stream",
          "name": "stdout",
          "text": [
            "Classification Report:\n",
            "              precision    recall  f1-score   support\n",
            "\n",
            "           0       1.00      1.00      1.00         2\n",
            "\n",
            "    accuracy                           1.00         2\n",
            "   macro avg       1.00      1.00      1.00         2\n",
            "weighted avg       1.00      1.00      1.00         2\n",
            "\n",
            "\n",
            "Confusion Matrix:\n",
            "[[2]]\n"
          ]
        },
        {
          "output_type": "stream",
          "name": "stderr",
          "text": [
            "/usr/local/lib/python3.10/dist-packages/sklearn/preprocessing/_encoders.py:868: FutureWarning: `sparse` was renamed to `sparse_output` in version 1.2 and will be removed in 1.4. `sparse_output` is ignored unless you leave `sparse` to its default value.\n",
            "  warnings.warn(\n"
          ]
        }
      ]
    },
    {
      "cell_type": "markdown",
      "source": [
        "# Prediction:"
      ],
      "metadata": {
        "id": "0gOz0WtucEup"
      }
    },
    {
      "cell_type": "code",
      "source": [
        "import pandas as pd\n",
        "from sklearn.model_selection import train_test_split\n",
        "from sklearn.linear_model import LogisticRegression\n",
        "from sklearn.metrics import accuracy_score\n",
        "data = pd.read_csv('transaction_data.csv')\n",
        "X = data[['Amount']]\n",
        "y = data['is_fraud']\n",
        "X_train, X_test, y_train, y_test = train_test_split(X, y, test_size=0.2, random_state=42)\n",
        "model = LogisticRegression()\n",
        "model.fit(X_train, y_train)\n",
        "predictions = model.predict(X_test)\n",
        "accuracy = accuracy_score(y_test, predictions)\n",
        "print(\"Accuracy:\", accuracy)"
      ],
      "metadata": {
        "colab": {
          "base_uri": "https://localhost:8080/"
        },
        "id": "ct5Rxh6bcL9_",
        "outputId": "d82a0517-ee84-4107-cdef-feea363bba05"
      },
      "execution_count": 14,
      "outputs": [
        {
          "output_type": "stream",
          "name": "stdout",
          "text": [
            "Accuracy: 1.0\n"
          ]
        }
      ]
    },
    {
      "cell_type": "markdown",
      "source": [
        "# Explanation:"
      ],
      "metadata": {
        "id": "cBd_2l_3dSTy"
      }
    },
    {
      "cell_type": "markdown",
      "source": [
        "The results of the Fraud Detection System are interpreted and explained to stakeholders. Insights into detected fraudulent activities, model performance, and key features influencing fraud detection are provided to facilitate decision-making and improve fraud prevention strategies."
      ],
      "metadata": {
        "id": "cqGzDN9kdW65"
      }
    },
    {
      "cell_type": "markdown",
      "source": [
        "# conclusion:"
      ],
      "metadata": {
        "id": "u67UGCMpdwZu"
      }
    },
    {
      "cell_type": "markdown",
      "source": [
        "Overall, a Fraud Detection System plays a crucial role in safeguarding businesses and financial institutions against fraudulent activities, ensuring the integrity and security of their operations."
      ],
      "metadata": {
        "id": "O5Oa_PnueDLF"
      }
    }
  ]
}